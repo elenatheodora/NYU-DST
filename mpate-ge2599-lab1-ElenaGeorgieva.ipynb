{
 "cells": [
  {
   "cell_type": "markdown",
   "metadata": {},
   "source": [
    "# Lab 1: decimation\n",
    "### MPATE-GE 2599, Fall 2020"
   ]
  },
  {
   "cell_type": "code",
   "execution_count": 1,
   "metadata": {},
   "outputs": [],
   "source": [
    "def decimate(x, k):\n",
    "    '''Decimate a signal x by a factor of k\n",
    "    \n",
    "    Parameters\n",
    "    ----------\n",
    "    x : np.ndarray\n",
    "        The input signal\n",
    "        \n",
    "    k : int > 0\n",
    "        The decimation factor\n",
    "        \n",
    "    Returns\n",
    "    -------\n",
    "    y : np.ndarray\n",
    "        The decimated signal y[n] = x[k * n]\n",
    "    '''\n",
    "    y = [] # new empty array \n",
    "    for i in range(0, len(x)): # loop from -> length of x\n",
    "        if i % k == 0: # every kth element\n",
    "            y.append(x[i]) # append to y\n",
    "    return y"
   ]
  },
  {
   "cell_type": "markdown",
   "metadata": {},
   "source": [
    "### Some tests to determine if decimate works properly\n",
    "\n",
    "Run the following cell to check your implementation"
   ]
  },
  {
   "cell_type": "code",
   "execution_count": 2,
   "metadata": {},
   "outputs": [
    {
     "name": "stdout",
     "output_type": "stream",
     "text": [
      "Testing length of decimated signals: Okay!\n",
      "Testing values of decimated signals: Okay!\n"
     ]
    },
    {
     "ename": "NameError",
     "evalue": "name 'fs' is not defined",
     "output_type": "error",
     "traceback": [
      "\u001b[0;31m---------------------------------------------------------------------------\u001b[0m",
      "\u001b[0;31mNameError\u001b[0m                                 Traceback (most recent call last)",
      "\u001b[0;32m<ipython-input-2-7653d1800830>\u001b[0m in \u001b[0;36m<module>\u001b[0;34m\u001b[0m\n\u001b[1;32m     29\u001b[0m \u001b[0my\u001b[0m\u001b[0;34m,\u001b[0m \u001b[0msr\u001b[0m \u001b[0;34m=\u001b[0m \u001b[0mlibrosa\u001b[0m\u001b[0;34m.\u001b[0m\u001b[0mload\u001b[0m\u001b[0;34m(\u001b[0m\u001b[0;34m'lab1-sweep.wav'\u001b[0m\u001b[0;34m)\u001b[0m \u001b[0;31m# load sine sweep\u001b[0m\u001b[0;34m\u001b[0m\u001b[0;34m\u001b[0m\u001b[0m\n\u001b[1;32m     30\u001b[0m \u001b[0my\u001b[0m \u001b[0;34m=\u001b[0m \u001b[0mdecimate\u001b[0m \u001b[0;34m(\u001b[0m\u001b[0my\u001b[0m\u001b[0;34m,\u001b[0m \u001b[0mk\u001b[0m\u001b[0;34m)\u001b[0m \u001b[0;31m# decimate it\u001b[0m\u001b[0;34m\u001b[0m\u001b[0;34m\u001b[0m\u001b[0m\n\u001b[0;32m---> 31\u001b[0;31m \u001b[0msr\u001b[0m \u001b[0;34m=\u001b[0m \u001b[0mfs\u001b[0m\u001b[0;34m/\u001b[0m\u001b[0mk\u001b[0m \u001b[0;31m# divide sr\u001b[0m\u001b[0;34m\u001b[0m\u001b[0;34m\u001b[0m\u001b[0m\n\u001b[0m\u001b[1;32m     32\u001b[0m \u001b[0mIPython\u001b[0m\u001b[0;34m.\u001b[0m\u001b[0mdisplay\u001b[0m\u001b[0;34m.\u001b[0m\u001b[0mAudio\u001b[0m\u001b[0;34m(\u001b[0m\u001b[0mdata\u001b[0m\u001b[0;34m=\u001b[0m\u001b[0my\u001b[0m\u001b[0;34m,\u001b[0m \u001b[0mrate\u001b[0m\u001b[0;34m=\u001b[0m\u001b[0msr\u001b[0m\u001b[0;34m)\u001b[0m\u001b[0;34m\u001b[0m\u001b[0;34m\u001b[0m\u001b[0m\n\u001b[1;32m     33\u001b[0m \u001b[0;34m\u001b[0m\u001b[0m\n",
      "\u001b[0;31mNameError\u001b[0m: name 'fs' is not defined"
     ]
    }
   ],
   "source": [
    "import numpy as np\n",
    "\n",
    "print('Testing length of decimated signals: ', end='')\n",
    "assert len(decimate(np.arange(12), 1)) == 12\n",
    "assert len(decimate(np.arange(12), 2)) == 6\n",
    "assert len(decimate(np.arange(12), 3)) == 4\n",
    "assert len(decimate(np.arange(12), 4)) == 3\n",
    "assert len(decimate(np.arange(12), 5)) == 3\n",
    "assert len(decimate(np.arange(12), 20)) == 1\n",
    "print('Okay!')\n",
    "\n",
    "print('Testing values of decimated signals: ', end='')\n",
    "assert np.allclose(decimate(np.arange(12), 1), np.arange(0, 12, 1))\n",
    "assert np.allclose(decimate(np.arange(12), 2), np.arange(0, 12, 2))\n",
    "assert np.allclose(decimate(np.arange(12), 3), np.arange(0, 12, 3))\n",
    "assert np.allclose(decimate(np.arange(12), 4), np.arange(0, 12, 4))\n",
    "assert np.allclose(decimate(np.arange(12), 5), np.arange(0, 12, 5))\n",
    "assert np.allclose(decimate(np.arange(12), 20), [0])\n",
    "print('Okay!')\n",
    "\n",
    "\n",
    "import librosa\n",
    "import librosa.display\n",
    "import IPython.display\n",
    "import numpy as np\n",
    "import matplotlib.pyplot as plt\n",
    "\n",
    "k = 5\n",
    "y, sr = librosa.load('lab1-sweep.wav') # load sine sweep\n",
    "y = decimate (y, k) # decimate it\n",
    "sr = fs/k # divide sr\n",
    "IPython.display.Audio(data=y, rate=sr)\n",
    "\n"
   ]
  },
  {
   "cell_type": "markdown",
   "metadata": {},
   "source": [
    "---\n",
    "## Use the space below to complete the assignment"
   ]
  },
  {
   "cell_type": "code",
   "execution_count": null,
   "metadata": {},
   "outputs": [],
   "source": [
    "# 1. Personally, I notice the signal sounds more dull when k = 5. Also, the sin sweep starts from a low pitch to a high pitch, as opposed to high to low for lower values of k. \n",
    "# I imagine for an ordinary non-trained listener, I'd say somewhre around k = 10 the sound becomes significantly different. \n",
    "\n",
    "# 2. The distortion happens because the sin function is no longer as smooth. There is a lower sampling rate, and the majority of samples are skipped leaving only one in every k samples to be processed. \n",
    "# If plotted, the decimated sin function looks a bit like a staircase as a opposed to a smooth line. Also, with a lower sampling rate, the function can't encode high frequencies so the sound is more 'dull' as if we've added a low pass filter.\n",
    "\n",
    "\n",
    "# 3. The original sampling rate is fs = 22050. That means the highest freqency that can be encoded is 11025. At k = 5, fs = 4410 and the highest value is 2205. So I'd guess this is a 2kHz sin sweep. "
   ]
  },
  {
   "cell_type": "markdown",
   "metadata": {},
   "source": [
    "---\n",
    "## Questions:\n",
    "\n",
    "1. How much can you decimate the test signal before it sounds distorted?  What's the smallest value of `k` that introduces noticeable distortion?\n",
    "\n",
    "2. Why does the distortion happen?\n",
    "\n",
    "3. Given what you know about the test signal’s original sampling rate, and the value of k that you’ve found above, what can you say about the range of frequency content in the test signal?  (Hint: use the Nyquist frequency!)\n"
   ]
  }
 ],
 "metadata": {
  "@webio": {
   "lastCommId": null,
   "lastKernelId": null
  },
  "kernelspec": {
   "display_name": "Python 3",
   "language": "python",
   "name": "python3"
  },
  "language_info": {
   "codemirror_mode": {
    "name": "ipython",
    "version": 3
   },
   "file_extension": ".py",
   "mimetype": "text/x-python",
   "name": "python",
   "nbconvert_exporter": "python",
   "pygments_lexer": "ipython3",
   "version": "3.8.3"
  }
 },
 "nbformat": 4,
 "nbformat_minor": 2
}
